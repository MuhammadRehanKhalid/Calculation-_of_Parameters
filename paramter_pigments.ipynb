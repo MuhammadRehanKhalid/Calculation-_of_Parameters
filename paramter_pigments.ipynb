{
 "cells": [
  {
   "cell_type": "markdown",
   "metadata": {},
   "source": [
    "# Calculation of different pigments values fron OD of `Algae`"
   ]
  },
  {
   "cell_type": "code",
   "execution_count": null,
   "metadata": {},
   "outputs": [],
   "source": [
    "import pandas as pd"
   ]
  },
  {
   "cell_type": "code",
   "execution_count": null,
   "metadata": {},
   "outputs": [],
   "source": [
    "\n",
    "\n",
    "def process_csv(input_filename, output_filename):\n",
    "    # Read the CSV file\n",
    "    df = pd.read_csv(input_filename)\n",
    "\n",
    "    # Apply the formula to the second column (assuming the column name is 'OD')\n",
    "    df['Result'] = df['OD'] * 2  # Replace this with your formula\n",
    "\n",
    "    # Write the DataFrame to a new CSV file\n",
    "    df.to_csv(output_filename, index=False)\n",
    "\n",
    "# Use the function\n",
    "process_csv('input.csv', 'output.csv')"
   ]
  }
 ],
 "metadata": {
  "kernelspec": {
   "display_name": "python_eda",
   "language": "python",
   "name": "python3"
  },
  "language_info": {
   "name": "python",
   "version": "3.11.7"
  }
 },
 "nbformat": 4,
 "nbformat_minor": 2
}
