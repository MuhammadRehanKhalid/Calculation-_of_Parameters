{
 "cells": [
  {
   "cell_type": "markdown",
   "metadata": {},
   "source": [
    "# Calculation of different pigments values fron OD of `Algae`"
   ]
  },
  {
   "cell_type": "code",
   "execution_count": 2,
   "metadata": {},
   "outputs": [],
   "source": [
    "import pandas as pd"
   ]
  },
  {
   "cell_type": "code",
   "execution_count": 8,
   "metadata": {},
   "outputs": [],
   "source": [
    "def process_csv(cav1, out):   # Function to process CSV files\n",
    "   # Read the CSV file\n",
    "   df = pd.read_csv(input_filename)             # Load data into DataFrame\n",
    "\n",
    "   # Apply the formula to the column\n",
    "   df['Result'] = df['OD'] * 2  # Calculate new column with formula\n",
    "\n",
    "   # Select only the 'name', 'OD', and 'Result' columns\n",
    "   df = df[['name', 'OD', 'Result']]\n",
    "\n",
    "   # Write the DataFrame to a new CSV file\n",
    "   df.to_csv(out, index=False)       # Save processed data to new CSV"
   ]
  }
 ],
 "metadata": {
  "kernelspec": {
   "display_name": "python_eda",
   "language": "python",
   "name": "python3"
  },
  "language_info": {
   "codemirror_mode": {
    "name": "ipython",
    "version": 3
   },
   "file_extension": ".py",
   "mimetype": "text/x-python",
   "name": "python",
   "nbconvert_exporter": "python",
   "pygments_lexer": "ipython3",
   "version": "3.11.7"
  }
 },
 "nbformat": 4,
 "nbformat_minor": 2
}
