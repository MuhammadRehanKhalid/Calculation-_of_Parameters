{
 "cells": [
  {
   "cell_type": "markdown",
   "metadata": {},
   "source": [
    "# Welcome to The `Paramter Calcualtor`"
   ]
  },
  {
   "cell_type": "code",
   "execution_count": 14,
   "metadata": {},
   "outputs": [
    {
     "name": "stdout",
     "output_type": "stream",
     "text": [
      "Please select appropriate orgnism type\n",
      "            1: Algae\n",
      "            2: Plant\n"
     ]
    },
    {
     "name": "stdin",
     "output_type": "stream",
     "text": [
      "Please Select the specific type 2\n"
     ]
    },
    {
     "name": "stdout",
     "output_type": "stream",
     "text": [
      "Welcome to Plant Paramters Calculator\n",
      "Please select the appropriate paramater\n",
      "Select option as\n",
      "                1. Carbohydrate\n",
      "                2. Protein\n",
      "                3. Lipids\n",
      "                4. Chl. a \n",
      "                5. Chl. b \n",
      "                6. Carotenoids\n",
      "                7. Production\n",
      "                8. Productiity\n",
      "                9. Biomass Production\n",
      "                10. APX (Ascorbate Peroxidase)\n",
      "                11. CAT (Catalse)\n",
      "                12. POD (Peroxidase)\n",
      "                13. SOD (Superoxide Dismutase)\n",
      "                14. GSH (Glutathione)\n",
      "                15. GR (Glutathion reducatse)\n",
      "                16. Further More Option Will be Added\n"
     ]
    }
   ],
   "source": [
    "import time\n",
    "time.sleep(1)\n",
    "print(\"\"\"Please select appropriate orgnism type\n",
    "            1: Algae\n",
    "            2: Plant\"\"\")\n",
    "species = int(input(\"Please Select the specific type\"))\n",
    "if species == 1:\n",
    "    print(\"Welcome to ALgae Paramters Calculator\")\n",
    "    print(\"Please select the appropriate paramater\")\n",
    "    print(\"\"\"Select option as\n",
    "                1. Carbohydrate\n",
    "                2. Protein\n",
    "                3. Lipids\n",
    "                4. Chl. a \n",
    "                5. Chl. b \n",
    "                6. Carotenoids\n",
    "                7. Production\n",
    "                8. Productiity\n",
    "                9. Biomass Production\n",
    "                10. Further More Option Will be Added\"\"\")\n",
    "elif species == 2:\n",
    "    print(\"Welcome to Plant Paramters Calculator\")\n",
    "    print(\"Please select the appropriate paramater\")\n",
    "    print(\"\"\"Select option as\n",
    "                1. Carbohydrate\n",
    "                2. Protein\n",
    "                3. Lipids\n",
    "                4. Chl. a \n",
    "                5. Chl. b \n",
    "                6. Carotenoids\n",
    "                7. Production\n",
    "                8. Productiity\n",
    "                9. Biomass Production\n",
    "                10. APX (Ascorbate Peroxidase)\n",
    "                11. CAT (Catalse)\n",
    "                12. POD (Peroxidase)\n",
    "                13. SOD (Superoxide Dismutase)\n",
    "                14. GSH (Glutathione)\n",
    "                15. GR (Glutathion reducatse)\n",
    "                16. Further More Option Will be Added\"\"\")\n",
    "    "
   ]
  },
  {
   "cell_type": "code",
   "execution_count": 8,
   "metadata": {},
   "outputs": [],
   "source": []
  }
 ],
 "metadata": {
  "kernelspec": {
   "display_name": "Python 3 (ipykernel)",
   "language": "python",
   "name": "python3"
  },
  "language_info": {
   "codemirror_mode": {
    "name": "ipython",
    "version": 3
   },
   "file_extension": ".py",
   "mimetype": "text/x-python",
   "name": "python",
   "nbconvert_exporter": "python",
   "pygments_lexer": "ipython3",
   "version": "3.10.13"
  }
 },
 "nbformat": 4,
 "nbformat_minor": 4
}
